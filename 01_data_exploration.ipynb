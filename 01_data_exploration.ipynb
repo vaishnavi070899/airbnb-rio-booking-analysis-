{
 "cells": [
  {
   "cell_type": "code",
   "execution_count": 1,
   "id": "70c9958a",
   "metadata": {},
   "outputs": [],
   "source": [
    "import pandas as pd\n",
    "import seaborn as sns\n",
    "import matplotlib.pyplot as plt\n",
    "\n",
    "from src.load_data import load_all_data\n",
    "from src.clean_data import clean_contacts, clean_users, clean_listings\n",
    "from src.metrics import (\n",
    "    booking_rate, response_rate, acceptance_rate,\n",
    "    avg_response_time, avg_accept_time,\n",
    "    conversion_by_contact_channel, conversion_by_user_stage\n",
    ")\n",
    "from src.funnel_analysis import (\n",
    "    get_funnel_stage_distribution, funnel_by_contact_channel,\n",
    "    funnel_by_guest_user_stage, funnel_by_room_type, funnel_by_neighborhood\n",
    ")\n",
    "from src.recommendations import generate_recommendations\n",
    "# contacts_df, listings_df, users_df = load_all_data()\n",
    "# datetime_cols = [\n",
    "#         'ts_booking_at',\n",
    "#         'ts_reply_at_first',\n",
    "#         'ts_interaction_first',\n",
    "#         'ts_accepted_at_first',\n",
    "#     ]\n",
    "# for col in datetime_cols:\n",
    "#     contacts_df[col] = pd.to_datetime(contacts_df[col], errors='coerce')\n",
    "# mask_invalid = (\n",
    "#         (contacts_df['ts_reply_at_first'].apply(type) != pd.Timestamp)\n",
    "#         | (contacts_df['ts_interaction_first'].apply(type) != pd.Timestamp)\n",
    "#     )\n",
    "# print(contacts_df.loc[mask_invalid, ['ts_reply_at_first', 'ts_interaction_first']])\n",
    "\n"
   ]
  },
  {
   "cell_type": "code",
   "execution_count": 2,
   "id": "7e155397",
   "metadata": {},
   "outputs": [
    {
     "name": "stderr",
     "output_type": "stream",
     "text": [
      "c:\\Users\\vaish\\OneDrive\\Desktop\\Semester4\\DataProjects\\airbnb-rio-booking-analysis-\\src\\clean_data.py:80: SettingWithCopyWarning: \n",
      "A value is trying to be set on a copy of a slice from a DataFrame.\n",
      "Try using .loc[row_indexer,col_indexer] = value instead\n",
      "\n",
      "See the caveats in the documentation: https://pandas.pydata.org/pandas-docs/stable/user_guide/indexing.html#returning-a-view-versus-a-copy\n",
      "  df['total_reviews'] = df['total_reviews'].fillna(0).astype(int)\n"
     ]
    }
   ],
   "source": [
    "# Load raw data\n",
    "contacts_df, listings_df, users_df = load_all_data()\n",
    "\n",
    "# Clean\n",
    "contacts_df = clean_contacts(contacts_df)\n",
    "listings_df = clean_listings(listings_df)\n",
    "users_df = clean_users(users_df)\n"
   ]
  },
  {
   "cell_type": "code",
   "execution_count": 3,
   "id": "feb6a0d7",
   "metadata": {},
   "outputs": [
    {
     "name": "stdout",
     "output_type": "stream",
     "text": [
      "Booking Rate: 0.4154982608383835\n",
      "Response Rate: 0.9271345071180119\n",
      "Acceptance Rate: 0.5886255244379102\n",
      "Avg Response Time (hrs): 19.436510889607842\n",
      "Avg Acceptance Time (hrs): 20.832697804521164\n",
      "contact_channel_first\n",
      "instant_book    1.000000\n",
      "book_it         0.476094\n",
      "contact_me      0.071017\n",
      "Name: booking_happened, dtype: float64\n",
      "guest_user_stage_first\n",
      "past_booker    0.526325\n",
      "-unknown-      0.400000\n",
      "new            0.332285\n",
      "Name: booking_happened, dtype: float64\n"
     ]
    }
   ],
   "source": [
    "print(\"Booking Rate:\", booking_rate(contacts_df))\n",
    "print(\"Response Rate:\", response_rate(contacts_df))\n",
    "print(\"Acceptance Rate:\", acceptance_rate(contacts_df))\n",
    "print(\"Avg Response Time (hrs):\", avg_response_time(contacts_df))\n",
    "print(\"Avg Acceptance Time (hrs):\", avg_accept_time(contacts_df))\n",
    "\n",
    "conversion_channel = conversion_by_contact_channel(contacts_df)\n",
    "print(conversion_channel)\n",
    "\n",
    "conversion_user_type = conversion_by_user_stage(contacts_df)\n",
    "print(conversion_user_type)\n"
   ]
  },
  {
   "cell_type": "code",
   "execution_count": 4,
   "id": "ca11c455",
   "metadata": {},
   "outputs": [
    {
     "name": "stdout",
     "output_type": "stream",
     "text": [
      "funnel_stage\n",
      "booked      0.415498\n",
      "replied     0.338509\n",
      "accepted    0.173127\n",
      "no_reply    0.072865\n",
      "Name: proportion, dtype: float64\n",
      "funnel_stage           accepted    booked  no_reply   replied\n",
      "contact_channel_first                                        \n",
      "book_it                 0.03072  0.476094  0.103156  0.390031\n",
      "contact_me              0.35633  0.071017  0.091129  0.481525\n",
      "instant_book            0.00000  1.000000  0.000000  0.000000\n",
      "guest_user_stage_first\n",
      "past_booker    0.526325\n",
      "-unknown-      0.400000\n",
      "new            0.332285\n",
      "Name: booking_happened, dtype: float64\n",
      "room_type\n",
      "private room    0.471175\n",
      "shared room     0.326014\n",
      "Name: booking_happened, dtype: float64\n"
     ]
    },
    {
     "data": {
      "text/html": [
       "<div>\n",
       "<style scoped>\n",
       "    .dataframe tbody tr th:only-of-type {\n",
       "        vertical-align: middle;\n",
       "    }\n",
       "\n",
       "    .dataframe tbody tr th {\n",
       "        vertical-align: top;\n",
       "    }\n",
       "\n",
       "    .dataframe thead th {\n",
       "        text-align: right;\n",
       "    }\n",
       "</style>\n",
       "<table border=\"1\" class=\"dataframe\">\n",
       "  <thead>\n",
       "    <tr style=\"text-align: right;\">\n",
       "      <th></th>\n",
       "      <th>mean</th>\n",
       "      <th>count</th>\n",
       "    </tr>\n",
       "    <tr>\n",
       "      <th>listing_neighborhood</th>\n",
       "      <th></th>\n",
       "      <th></th>\n",
       "    </tr>\n",
       "  </thead>\n",
       "  <tbody>\n",
       "    <tr>\n",
       "      <th>Lagoa</th>\n",
       "      <td>0.727273</td>\n",
       "      <td>55</td>\n",
       "    </tr>\n",
       "    <tr>\n",
       "      <th>Santa Teresa</th>\n",
       "      <td>0.640777</td>\n",
       "      <td>309</td>\n",
       "    </tr>\n",
       "    <tr>\n",
       "      <th>Leme</th>\n",
       "      <td>0.619469</td>\n",
       "      <td>113</td>\n",
       "    </tr>\n",
       "    <tr>\n",
       "      <th>Centro</th>\n",
       "      <td>0.573770</td>\n",
       "      <td>61</td>\n",
       "    </tr>\n",
       "    <tr>\n",
       "      <th>Ipanema</th>\n",
       "      <td>0.572482</td>\n",
       "      <td>407</td>\n",
       "    </tr>\n",
       "  </tbody>\n",
       "</table>\n",
       "</div>"
      ],
      "text/plain": [
       "                          mean  count\n",
       "listing_neighborhood                 \n",
       "Lagoa                 0.727273     55\n",
       "Santa Teresa          0.640777    309\n",
       "Leme                  0.619469    113\n",
       "Centro                0.573770     61\n",
       "Ipanema               0.572482    407"
      ]
     },
     "execution_count": 4,
     "metadata": {},
     "output_type": "execute_result"
    }
   ],
   "source": [
    "# Funnel stages\n",
    "funnel_dist = get_funnel_stage_distribution(contacts_df)\n",
    "print(funnel_dist)\n",
    "\n",
    "# By channel\n",
    "print(funnel_by_contact_channel(contacts_df))\n",
    "\n",
    "# By user type\n",
    "print(funnel_by_guest_user_stage(contacts_df))\n",
    "\n",
    "# By room type\n",
    "room_type_conv = funnel_by_room_type(contacts_df, listings_df)\n",
    "print(room_type_conv)\n",
    "\n",
    "# By neighborhood\n",
    "neighborhood_perf = funnel_by_neighborhood(contacts_df, listings_df)\n",
    "neighborhood_perf.head()\n"
   ]
  },
  {
   "cell_type": "code",
   "execution_count": 5,
   "id": "c4e4643e",
   "metadata": {},
   "outputs": [
    {
     "name": "stdout",
     "output_type": "stream",
     "text": [
      "Insight: Instant Book has a conversion rate of 100.00%, significantly higher than the average 41.55%.\n",
      "Recommendation: Encourage more hosts to opt in to Instant Book. Consider incentives or feature promotions.\n",
      "---\n",
      "Insight: Private Rooms have the highest booking rate at 47.12%. Shared Rooms convert at only 32.60%.\n",
      "Recommendation: Surface more private rooms in search results, or improve the visibility of better-converting room types.\n",
      "---\n",
      "Insight: Average host response time is 19.4 hours, which may be too slow for real-time booking expectations.\n",
      "Recommendation: Improve host responsiveness — consider SMS nudges, response SLAs, or reward fast responders.\n",
      "---\n"
     ]
    }
   ],
   "source": [
    "metrics_summary = {\n",
    "    \"booking_rate\": booking_rate(contacts_df),\n",
    "    \"avg_response_time\": avg_response_time(contacts_df),\n",
    "}\n",
    "\n",
    "recommendations = generate_recommendations(\n",
    "    metrics=metrics_summary,\n",
    "    funnel_by_channel=conversion_channel,\n",
    "    room_type_conversion=room_type_conv,\n",
    "    user_stage_conversion=conversion_user_type\n",
    ")\n",
    "\n",
    "for rec in recommendations:\n",
    "    print(\"Insight:\", rec['insight'])\n",
    "    print(\"Recommendation:\", rec['recommendation'])\n",
    "    print(\"---\")\n"
   ]
  },
  {
   "cell_type": "code",
   "execution_count": 6,
   "id": "b4981996",
   "metadata": {},
   "outputs": [
    {
     "data": {
      "image/png": "[encoded data removed]",
      "text/plain": [
       "<Figure size 640x480 with 1 Axes>"
      ]
     },
     "metadata": {},
     "output_type": "display_data"
    },
    {
     "data": {
      "image/png": "[encoded data removed]",
      "text/plain": [
       "<Figure size 640x480 with 1 Axes>"
      ]
     },
     "metadata": {},
     "output_type": "display_data"
    }
   ],
   "source": [
    "# Funnel stage distribution bar chart\n",
    "sns.countplot(data=contacts_df, x='funnel_stage', order=['no_reply', 'replied', 'accepted', 'booked'])\n",
    "plt.title('Inquiry Funnel Distribution')\n",
    "plt.xlabel('Stage')\n",
    "plt.ylabel('Count')\n",
    "plt.show()\n",
    "\n",
    "# Booking rate by contact method\n",
    "conversion_channel.plot(kind='bar', title='Booking Rate by Contact Method', ylabel='Booking Rate')\n",
    "plt.show()\n"
   ]
  }
 ],
 "metadata": {
  "kernelspec": {
   "display_name": ".venv",
   "language": "python",
   "name": "python3"
  },
  "language_info": {
   "codemirror_mode": {
    "name": "ipython",
    "version": 3
   },
   "file_extension": ".py",
   "mimetype": "text/x-python",
   "name": "python",
   "nbconvert_exporter": "python",
   "pygments_lexer": "ipython3",
   "version": "3.11.9"
  }
 },
 "nbformat": 4,
 "nbformat_minor": 5
}
