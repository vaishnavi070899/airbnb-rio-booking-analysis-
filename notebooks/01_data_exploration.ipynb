{
 "cells": [
  {
   "cell_type": "code",
   "execution_count": null,
   "id": "70c9958a",
   "metadata": {},
   "outputs": [],
   "source": [
    "import pandas as pd\n",
    "import seaborn as sns\n",
    "import matplotlib.pyplot as plt\n",
    "\n",
    "from src.load_data import load_all_data\n",
    "from src.clean_data import clean_contacts, clean_users, clean_listings\n",
    "from src.metrics import (\n",
    "    booking_rate, response_rate, acceptance_rate,\n",
    "    avg_response_time, avg_accept_time,\n",
    "    conversion_by_contact_channel, conversion_by_user_stage\n",
    ")\n",
    "from src.funnel_analysis import (\n",
    "    get_funnel_stage_distribution, funnel_by_contact_channel,\n",
    "    funnel_by_guest_user_stage, funnel_by_room_type, funnel_by_neighborhood\n",
    ")\n",
    "from src.recommendations import generate_recommendations\n"
   ]
  },
  {
   "cell_type": "code",
   "execution_count": null,
   "id": "7e155397",
   "metadata": {},
   "outputs": [],
   "source": [
    "# Load raw data\n",
    "contacts_df, listings_df, users_df = load_all_data()\n",
    "\n",
    "# Clean & enrich\n",
    "contacts_df = clean_contacts(contacts_df)\n",
    "listings_df = clean_listings(listings_df)\n",
    "users_df = clean_users(users_df)\n"
   ]
  },
  {
   "cell_type": "code",
   "execution_count": null,
   "id": "feb6a0d7",
   "metadata": {},
   "outputs": [],
   "source": [
    "print(\"Booking Rate:\", booking_rate(contacts_df))\n",
    "print(\"Response Rate:\", response_rate(contacts_df))\n",
    "print(\"Acceptance Rate:\", acceptance_rate(contacts_df))\n",
    "print(\"Avg Response Time (hrs):\", avg_response_time(contacts_df))\n",
    "print(\"Avg Acceptance Time (hrs):\", avg_accept_time(contacts_df))\n",
    "\n",
    "conversion_channel = conversion_by_contact_channel(contacts_df)\n",
    "print(conversion_channel)\n",
    "\n",
    "conversion_user_type = conversion_by_user_stage(contacts_df)\n",
    "print(conversion_user_type)\n"
   ]
  },
  {
   "cell_type": "code",
   "execution_count": null,
   "id": "ca11c455",
   "metadata": {},
   "outputs": [],
   "source": [
    "# Funnel stages\n",
    "funnel_dist = get_funnel_stage_distribution(contacts_df)\n",
    "print(funnel_dist)\n",
    "\n",
    "# By channel\n",
    "print(funnel_by_contact_channel(contacts_df))\n",
    "\n",
    "# By user type\n",
    "print(funnel_by_guest_user_stage(contacts_df))\n",
    "\n",
    "# By room type\n",
    "room_type_conv = funnel_by_room_type(contacts_df, listings_df)\n",
    "print(room_type_conv)\n",
    "\n",
    "# By neighborhood\n",
    "neighborhood_perf = funnel_by_neighborhood(contacts_df, listings_df)\n",
    "neighborhood_perf.head()\n"
   ]
  },
  {
   "cell_type": "code",
   "execution_count": null,
   "id": "c4e4643e",
   "metadata": {},
   "outputs": [],
   "source": [
    "metrics_summary = {\n",
    "    \"booking_rate\": booking_rate(contacts_df),\n",
    "    \"avg_response_time\": avg_response_time(contacts_df),\n",
    "}\n",
    "\n",
    "recommendations = generate_recommendations(\n",
    "    metrics=metrics_summary,\n",
    "    funnel_by_channel=conversion_channel,\n",
    "    room_type_conversion=room_type_conv,\n",
    "    user_stage_conversion=conversion_user_type\n",
    ")\n",
    "\n",
    "for rec in recommendations:\n",
    "    print(\"Insight:\", rec['insight'])\n",
    "    print(\"Recommendation:\", rec['recommendation'])\n",
    "    print(\"---\")\n"
   ]
  },
  {
   "cell_type": "code",
   "execution_count": null,
   "id": "b4981996",
   "metadata": {},
   "outputs": [],
   "source": [
    "# Funnel stage distribution bar chart\n",
    "sns.countplot(data=contacts_df, x='funnel_stage', order=['no_reply', 'replied', 'accepted', 'booked'])\n",
    "plt.title('Inquiry Funnel Distribution')\n",
    "plt.xlabel('Stage')\n",
    "plt.ylabel('Count')\n",
    "plt.show()\n",
    "\n",
    "# Booking rate by contact method\n",
    "conversion_channel.plot(kind='bar', title='Booking Rate by Contact Method', ylabel='Booking Rate')\n",
    "plt.show()\n"
   ]
  }
 ],
 "metadata": {
  "kernelspec": {
   "display_name": "Python 3",
   "language": "python",
   "name": "python3"
  },
  "language_info": {
   "codemirror_mode": {
    "name": "ipython",
    "version": 3
   },
   "file_extension": ".py",
   "mimetype": "text/x-python",
   "name": "python",
   "nbconvert_exporter": "python",
   "pygments_lexer": "ipython3",
   "version": "3.11.9"
  }
 },
 "nbformat": 4,
 "nbformat_minor": 5
}
